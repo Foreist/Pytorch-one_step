{
 "cells": [
  {
   "cell_type": "code",
   "execution_count": 1,
   "metadata": {},
   "outputs": [],
   "source": [
    "import torch\n",
    "import torch.nn as nn\n",
    "import torch.optim as optim\n",
    "import torch.nn.init as init"
   ]
  },
  {
   "cell_type": "code",
   "execution_count": 2,
   "metadata": {},
   "outputs": [],
   "source": [
    "num_data = 1000\n",
    "num_epoch = 10000\n",
    "\n",
    "noise = init.normal_(torch.FloatTensor(num_data, 1), std = 1)\n",
    "x = init.uniform_(torch.Tensor(num_data,  1), -15, 15)\n",
    "y = (x ** 2) + 3\n",
    "y_noise = y + noise"
   ]
  },
  {
   "cell_type": "code",
   "execution_count": 3,
   "metadata": {},
   "outputs": [],
   "source": [
    "## Sequential 모데은 다양한 모듈을 담을 수 있는 리스트\n",
    "model = nn.Sequential(\n",
    "            nn.Linear(1, 6),\n",
    "            nn.ReLU(),\n",
    "            nn.Linear(6, 10),\n",
    "            nn.ReLU(),\n",
    "            nn.Linear(10, 6),\n",
    "            nn.ReLU(),\n",
    "            nn.Linear(6, 1))\n",
    "\n",
    "loss_func = nn.L1Loss()\n",
    "optimizer = optim.SGD(model.parameters(), lr = 0.0002)"
   ]
  },
  {
   "cell_type": "code",
   "execution_count": 4,
   "metadata": {},
   "outputs": [
    {
     "data": {
      "text/plain": [
       "[Parameter containing:\n",
       " tensor([[ 0.2486],\n",
       "         [-0.1621],\n",
       "         [ 0.8334],\n",
       "         [-0.0707],\n",
       "         [ 0.3332],\n",
       "         [ 0.7424]], requires_grad=True), Parameter containing:\n",
       " tensor([-0.9184, -0.5057,  0.9064, -0.8291, -0.1711,  0.2762],\n",
       "        requires_grad=True), Parameter containing:\n",
       " tensor([[-0.0922, -0.1970,  0.4002, -0.3972, -0.2551,  0.3420],\n",
       "         [ 0.1542,  0.2037,  0.0011, -0.0531, -0.0260, -0.3052],\n",
       "         [ 0.1219,  0.1518,  0.3788, -0.2896, -0.1316, -0.0531],\n",
       "         [ 0.0942,  0.4034,  0.3424,  0.0898,  0.0228,  0.0740],\n",
       "         [-0.1962,  0.2016,  0.3771,  0.0599,  0.0713, -0.3678],\n",
       "         [-0.0647, -0.1513, -0.1382,  0.2713,  0.2651,  0.0527],\n",
       "         [-0.2682, -0.4020, -0.3182,  0.2268,  0.2109, -0.3174],\n",
       "         [-0.3301,  0.2331, -0.4055,  0.3879,  0.0991, -0.1542],\n",
       "         [ 0.2303,  0.4013,  0.1731, -0.0592,  0.1035,  0.1925],\n",
       "         [-0.2995, -0.2225, -0.1122,  0.1504, -0.1374,  0.3080]],\n",
       "        requires_grad=True), Parameter containing:\n",
       " tensor([-0.2083, -0.0389,  0.1930, -0.2199,  0.0838, -0.0281,  0.1235, -0.0795,\n",
       "         -0.0648, -0.2656], requires_grad=True), Parameter containing:\n",
       " tensor([[ 0.2419, -0.1264,  0.0788,  0.1783,  0.0922, -0.0006,  0.2052, -0.2685,\n",
       "           0.1055, -0.0310],\n",
       "         [-0.0436,  0.0113, -0.1554,  0.0061, -0.0439, -0.1516,  0.1402,  0.0837,\n",
       "           0.1074,  0.2976],\n",
       "         [-0.2247,  0.3128, -0.2141, -0.2816,  0.1231, -0.1694, -0.0794,  0.0919,\n",
       "          -0.0938,  0.2536],\n",
       "         [-0.0556, -0.2624, -0.2964, -0.0696, -0.1317, -0.2082,  0.0418, -0.2028,\n",
       "          -0.0085,  0.2450],\n",
       "         [ 0.2044,  0.0349, -0.0422,  0.2176,  0.1414, -0.1299, -0.1082, -0.1903,\n",
       "           0.0394,  0.0831],\n",
       "         [-0.1323,  0.1042,  0.2237, -0.0990,  0.2819,  0.0495,  0.0254,  0.2254,\n",
       "          -0.2730,  0.1437]], requires_grad=True), Parameter containing:\n",
       " tensor([ 0.2779, -0.0788, -0.1510, -0.0715, -0.0662,  0.0964],\n",
       "        requires_grad=True), Parameter containing:\n",
       " tensor([[ 0.2951, -0.1441,  0.1365,  0.1014, -0.0374,  0.2020]],\n",
       "        requires_grad=True), Parameter containing:\n",
       " tensor([-0.1688], requires_grad=True)]"
      ]
     },
     "execution_count": 4,
     "metadata": {},
     "output_type": "execute_result"
    }
   ],
   "source": [
    "list(model.parameters())"
   ]
  },
  {
   "cell_type": "code",
   "execution_count": 5,
   "metadata": {},
   "outputs": [
    {
     "name": "stdout",
     "output_type": "stream",
     "text": [
      "tensor(77.7767, grad_fn=<L1LossBackward>)\n",
      "tensor(77.6814, grad_fn=<L1LossBackward>)\n",
      "tensor(77.5719, grad_fn=<L1LossBackward>)\n",
      "tensor(77.4440, grad_fn=<L1LossBackward>)\n",
      "tensor(77.2914, grad_fn=<L1LossBackward>)\n",
      "tensor(77.1053, grad_fn=<L1LossBackward>)\n",
      "tensor(76.8727, grad_fn=<L1LossBackward>)\n",
      "tensor(76.5743, grad_fn=<L1LossBackward>)\n",
      "tensor(76.1791, grad_fn=<L1LossBackward>)\n",
      "tensor(75.6363, grad_fn=<L1LossBackward>)\n",
      "tensor(74.8569, grad_fn=<L1LossBackward>)\n",
      "tensor(73.6741, grad_fn=<L1LossBackward>)\n",
      "tensor(71.7470, grad_fn=<L1LossBackward>)\n",
      "tensor(68.3291, grad_fn=<L1LossBackward>)\n",
      "tensor(62.2482, grad_fn=<L1LossBackward>)\n",
      "tensor(53.2836, grad_fn=<L1LossBackward>)\n",
      "tensor(48.0545, grad_fn=<L1LossBackward>)\n",
      "tensor(46.2285, grad_fn=<L1LossBackward>)\n",
      "tensor(43.8346, grad_fn=<L1LossBackward>)\n",
      "tensor(39.5882, grad_fn=<L1LossBackward>)\n",
      "tensor(32.0776, grad_fn=<L1LossBackward>)\n",
      "tensor(23.8747, grad_fn=<L1LossBackward>)\n",
      "tensor(21.2463, grad_fn=<L1LossBackward>)\n",
      "tensor(20.9245, grad_fn=<L1LossBackward>)\n",
      "tensor(20.7753, grad_fn=<L1LossBackward>)\n",
      "tensor(20.6322, grad_fn=<L1LossBackward>)\n",
      "tensor(20.4932, grad_fn=<L1LossBackward>)\n",
      "tensor(20.3562, grad_fn=<L1LossBackward>)\n",
      "tensor(20.2185, grad_fn=<L1LossBackward>)\n",
      "tensor(20.0812, grad_fn=<L1LossBackward>)\n",
      "tensor(19.9441, grad_fn=<L1LossBackward>)\n",
      "tensor(19.8071, grad_fn=<L1LossBackward>)\n",
      "tensor(19.6713, grad_fn=<L1LossBackward>)\n",
      "tensor(19.5376, grad_fn=<L1LossBackward>)\n",
      "tensor(19.4044, grad_fn=<L1LossBackward>)\n",
      "tensor(19.2701, grad_fn=<L1LossBackward>)\n",
      "tensor(19.1355, grad_fn=<L1LossBackward>)\n",
      "tensor(18.9990, grad_fn=<L1LossBackward>)\n",
      "tensor(18.8598, grad_fn=<L1LossBackward>)\n",
      "tensor(18.7190, grad_fn=<L1LossBackward>)\n",
      "tensor(18.5766, grad_fn=<L1LossBackward>)\n",
      "tensor(18.4305, grad_fn=<L1LossBackward>)\n",
      "tensor(18.2811, grad_fn=<L1LossBackward>)\n",
      "tensor(18.1272, grad_fn=<L1LossBackward>)\n",
      "tensor(17.9712, grad_fn=<L1LossBackward>)\n",
      "tensor(17.8164, grad_fn=<L1LossBackward>)\n",
      "tensor(17.6623, grad_fn=<L1LossBackward>)\n",
      "tensor(17.5063, grad_fn=<L1LossBackward>)\n",
      "tensor(17.3489, grad_fn=<L1LossBackward>)\n",
      "tensor(17.1879, grad_fn=<L1LossBackward>)\n",
      "tensor(17.0275, grad_fn=<L1LossBackward>)\n",
      "tensor(16.8621, grad_fn=<L1LossBackward>)\n",
      "tensor(16.6902, grad_fn=<L1LossBackward>)\n",
      "tensor(16.5114, grad_fn=<L1LossBackward>)\n",
      "tensor(16.3242, grad_fn=<L1LossBackward>)\n",
      "tensor(16.1286, grad_fn=<L1LossBackward>)\n",
      "tensor(15.9250, grad_fn=<L1LossBackward>)\n",
      "tensor(15.7084, grad_fn=<L1LossBackward>)\n",
      "tensor(15.4889, grad_fn=<L1LossBackward>)\n",
      "tensor(15.2723, grad_fn=<L1LossBackward>)\n",
      "tensor(15.0435, grad_fn=<L1LossBackward>)\n",
      "tensor(14.8136, grad_fn=<L1LossBackward>)\n",
      "tensor(14.5795, grad_fn=<L1LossBackward>)\n",
      "tensor(14.3394, grad_fn=<L1LossBackward>)\n",
      "tensor(14.0952, grad_fn=<L1LossBackward>)\n",
      "tensor(13.8561, grad_fn=<L1LossBackward>)\n",
      "tensor(13.6082, grad_fn=<L1LossBackward>)\n",
      "tensor(13.3490, grad_fn=<L1LossBackward>)\n",
      "tensor(13.0818, grad_fn=<L1LossBackward>)\n",
      "tensor(12.8072, grad_fn=<L1LossBackward>)\n",
      "tensor(12.5287, grad_fn=<L1LossBackward>)\n",
      "tensor(12.2351, grad_fn=<L1LossBackward>)\n",
      "tensor(11.9317, grad_fn=<L1LossBackward>)\n",
      "tensor(11.6136, grad_fn=<L1LossBackward>)\n",
      "tensor(11.2789, grad_fn=<L1LossBackward>)\n",
      "tensor(10.9408, grad_fn=<L1LossBackward>)\n",
      "tensor(10.5958, grad_fn=<L1LossBackward>)\n",
      "tensor(10.2547, grad_fn=<L1LossBackward>)\n",
      "tensor(9.9152, grad_fn=<L1LossBackward>)\n",
      "tensor(9.5876, grad_fn=<L1LossBackward>)\n",
      "tensor(9.2788, grad_fn=<L1LossBackward>)\n",
      "tensor(8.9696, grad_fn=<L1LossBackward>)\n",
      "tensor(8.6705, grad_fn=<L1LossBackward>)\n",
      "tensor(8.3832, grad_fn=<L1LossBackward>)\n",
      "tensor(8.1150, grad_fn=<L1LossBackward>)\n",
      "tensor(7.8699, grad_fn=<L1LossBackward>)\n",
      "tensor(7.6325, grad_fn=<L1LossBackward>)\n",
      "tensor(7.4082, grad_fn=<L1LossBackward>)\n",
      "tensor(7.1885, grad_fn=<L1LossBackward>)\n",
      "tensor(6.9849, grad_fn=<L1LossBackward>)\n",
      "tensor(6.7988, grad_fn=<L1LossBackward>)\n",
      "tensor(6.6322, grad_fn=<L1LossBackward>)\n",
      "tensor(6.4773, grad_fn=<L1LossBackward>)\n",
      "tensor(6.3352, grad_fn=<L1LossBackward>)\n",
      "tensor(6.2116, grad_fn=<L1LossBackward>)\n",
      "tensor(6.0885, grad_fn=<L1LossBackward>)\n",
      "tensor(5.9774, grad_fn=<L1LossBackward>)\n",
      "tensor(5.8730, grad_fn=<L1LossBackward>)\n",
      "tensor(5.7815, grad_fn=<L1LossBackward>)\n",
      "tensor(5.7007, grad_fn=<L1LossBackward>)\n"
     ]
    }
   ],
   "source": [
    "loss_array = []\n",
    "for i in range(num_epoch):\n",
    "    optimizer.zero_grad()\n",
    "    output = model(x)\n",
    "    \n",
    "    loss = loss_func(output, y_noise)\n",
    "    loss.backward()\n",
    "    optimizer.step()\n",
    "    \n",
    "    loss_array.append(loss)\n",
    "    \n",
    "    if i % 100 == 0:\n",
    "        print(loss)"
   ]
  },
  {
   "cell_type": "code",
   "execution_count": 6,
   "metadata": {},
   "outputs": [
    {
     "data": {
      "text/plain": [
       "<Figure size 1000x1000 with 1 Axes>"
      ]
     },
     "metadata": {},
     "output_type": "display_data"
    }
   ],
   "source": [
    "import matplotlib.pyplot as plt\n",
    "plt.figure(figsize = (10, 10))\n",
    "plt.plot(loss_array)\n",
    "plt.show()"
   ]
  },
  {
   "cell_type": "code",
   "execution_count": 7,
   "metadata": {},
   "outputs": [
    {
     "data": {
      "image/png": "[encoded data removed]",
      "text/plain": [
       "<Figure size 720x720 with 1 Axes>"
      ]
     },
     "metadata": {
      "needs_background": "light"
     },
     "output_type": "display_data"
    }
   ],
   "source": [
    "plt.figure(figsize = (10, 10))\n",
    "plt.scatter(x.detach().numpy(), y_noise, label = 'Original Data')\n",
    "plt.scatter(x.detach().numpy(), output.detach().numpy(), label = 'Model Output')\n",
    "plt.legend()\n",
    "plt.show()"
   ]
  }
 ],
 "metadata": {
  "kernelspec": {
   "display_name": "Python 3",
   "language": "python",
   "name": "python3"
  },
  "language_info": {
   "codemirror_mode": {
    "name": "ipython",
    "version": 3
   },
   "file_extension": ".py",
   "mimetype": "text/x-python",
   "name": "python",
   "nbconvert_exporter": "python",
   "pygments_lexer": "ipython3",
   "version": "3.7.0"
  }
 },
 "nbformat": 4,
 "nbformat_minor": 2
}
